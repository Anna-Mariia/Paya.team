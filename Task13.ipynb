{
 "cells": [
  {
   "cell_type": "code",
   "execution_count": 23,
   "id": "ecba36b8",
   "metadata": {},
   "outputs": [
    {
     "name": "stdout",
     "output_type": "stream",
     "text": [
      "1 6 3 5 2 7 89\n",
      "89\n",
      "[89, 7, 2, 5, 3, 6, 1]\n",
      "Yes\n",
      "1\n",
      "[2, 3, 5, 6, 7]\n",
      "2\n"
     ]
    }
   ],
   "source": [
    "#Question 13\n",
    "#Write a program that asks the user to enter a length in centimeters. \n",
    "#If the user enters a negative length, the program should tell the user that the entry is invalid.\n",
    "#Otherwise, the program should convert the length to inches and print out the result. There are 2.54 centimeters in an inch.\n",
    "\n",
    "def list_op():\n",
    "    l = input().split()\n",
    "    print(l[-1])\n",
    "    n = 0\n",
    "    for i in l:\n",
    "        l[n] = int(l[n]) \n",
    "        n = n + 1\n",
    "    s = []  \n",
    "   \n",
    "    n = 1\n",
    "    for i in l:\n",
    "        s.append(l[-n])\n",
    "        n += 1\n",
    "    print(s)\n",
    "    n = 0    \n",
    "    for i in l:\n",
    "        if i == 5:\n",
    "            n += 1\n",
    "        else:\n",
    "            n += 0\n",
    "    if n > 0:\n",
    "        print(\"Yes\")\n",
    "    else:\n",
    "        print(\"No\")\n",
    "        \n",
    "    print(n)  \n",
    "    s = []\n",
    "    for i in l:\n",
    "        if i == l[0] or i == l[-1]:\n",
    "            pass\n",
    "        else:\n",
    "            s.append(i)\n",
    "    s.sort()        \n",
    "    print(s)\n",
    "    n = 0\n",
    "    for i in s:\n",
    "        if i < 5:\n",
    "            n += 1\n",
    "        else:\n",
    "            n += 0\n",
    "    print(n)       \n",
    "    \n",
    "list_op()"
   ]
  }
 ],
 "metadata": {
  "kernelspec": {
   "display_name": "Python 3 (ipykernel)",
   "language": "python",
   "name": "python3"
  },
  "language_info": {
   "codemirror_mode": {
    "name": "ipython",
    "version": 3
   },
   "file_extension": ".py",
   "mimetype": "text/x-python",
   "name": "python",
   "nbconvert_exporter": "python",
   "pygments_lexer": "ipython3",
   "version": "3.9.12"
  }
 },
 "nbformat": 4,
 "nbformat_minor": 5
}
