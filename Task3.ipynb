{
 "cells": [
  {
   "cell_type": "code",
   "execution_count": 5,
   "id": "ca190356",
   "metadata": {},
   "outputs": [
    {
     "name": "stdout",
     "output_type": "stream",
     "text": [
      "-2\n",
      "the entry is invalid\n"
     ]
    }
   ],
   "source": [
    "#Question 3\n",
    "#Write a print statement to print the mixed fraction 3 5/8 as a floating point number and as an integer.\n",
    "\n",
    "x = float(input())\n",
    "if x < 0:\n",
    "    print('the entry is invalid')\n",
    "else:\n",
    "    print(x/2.54)"
   ]
  }
 ],
 "metadata": {
  "kernelspec": {
   "display_name": "Python 3 (ipykernel)",
   "language": "python",
   "name": "python3"
  },
  "language_info": {
   "codemirror_mode": {
    "name": "ipython",
    "version": 3
   },
   "file_extension": ".py",
   "mimetype": "text/x-python",
   "name": "python",
   "nbconvert_exporter": "python",
   "pygments_lexer": "ipython3",
   "version": "3.9.12"
  }
 },
 "nbformat": 4,
 "nbformat_minor": 5
}
