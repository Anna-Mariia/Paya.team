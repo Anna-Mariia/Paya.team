{
 "cells": [
  {
   "cell_type": "code",
   "execution_count": 6,
   "id": "085901a7",
   "metadata": {},
   "outputs": [],
   "source": [
    "def rev_tuple(tpl):\n",
    "    \"\"\"Write a function that reverse the tuple.\"\"\"\n",
    "    return tuple(reversed(tpl))"
   ]
  },
  {
   "cell_type": "code",
   "execution_count": 9,
   "id": "cedad4fd",
   "metadata": {},
   "outputs": [
    {
     "data": {
      "text/plain": [
       "(3, 2, 1)"
      ]
     },
     "execution_count": 9,
     "metadata": {},
     "output_type": "execute_result"
    }
   ],
   "source": [
    "rev_tuple((1, 2, 3))"
   ]
  }
 ],
 "metadata": {
  "kernelspec": {
   "display_name": "Python 3 (ipykernel)",
   "language": "python",
   "name": "python3"
  },
  "language_info": {
   "codemirror_mode": {
    "name": "ipython",
    "version": 3
   },
   "file_extension": ".py",
   "mimetype": "text/x-python",
   "name": "python",
   "nbconvert_exporter": "python",
   "pygments_lexer": "ipython3",
   "version": "3.9.12"
  }
 },
 "nbformat": 4,
 "nbformat_minor": 5
}
