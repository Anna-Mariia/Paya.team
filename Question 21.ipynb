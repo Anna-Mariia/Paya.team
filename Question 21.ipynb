{
 "cells": [
  {
   "cell_type": "code",
   "execution_count": 21,
   "metadata": {
    "collapsed": false
   },
   "outputs": [
    {
     "name": "stdout",
     "output_type": "stream",
     "text": [
      "29\n"
     ]
    }
   ],
   "source": [
    "'''Calculate number of distinct characters in a string using a for loop.'''\n",
    "r1 = \"jgfl;kjlmdfgbhjbnklckp 436 \"+ '\"' + \"57ffdg#$%^&785 $%&*()\"\n",
    "r2 = \"\"\n",
    "for i in r1:\n",
    "    if i not in r2:\n",
    "        r2 += i\n",
    "print(len(r2))"
   ]
  }
 ],
 "metadata": {
  "kernelspec": {
   "display_name": "Python [Root]",
   "language": "python",
   "name": "Python [Root]"
  },
  "language_info": {
   "codemirror_mode": {
    "name": "ipython",
    "version": 3
   },
   "file_extension": ".py",
   "mimetype": "text/x-python",
   "name": "python",
   "nbconvert_exporter": "python",
   "pygments_lexer": "ipython3",
   "version": "3.5.2"
  }
 },
 "nbformat": 4,
 "nbformat_minor": 0
}
