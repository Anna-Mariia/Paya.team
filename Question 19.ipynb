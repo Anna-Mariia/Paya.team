{
 "cells": [
  {
   "cell_type": "code",
   "execution_count": 2,
   "metadata": {
    "collapsed": true
   },
   "outputs": [],
   "source": [
    "def sort_tuple(tpl):\n",
    "    '''Sort a tuple of tuples by 2nd item. For example,\n",
    "    the output for the tuple $(('a', 23),('b', 37),('c', 11), ('d',29))$\n",
    "    should be $(('c', 11), ('a', 23), ('d', 29), ('b', 37))$'''\n",
    "    return tuple(sorted(tpl, key=lambda x: x[1]))"
   ]
  },
  {
   "cell_type": "code",
   "execution_count": 3,
   "metadata": {
    "collapsed": false
   },
   "outputs": [
    {
     "data": {
      "text/plain": [
       "(('c', 11), ('a', 23), ('d', 29), ('b', 37))"
      ]
     },
     "execution_count": 3,
     "metadata": {},
     "output_type": "execute_result"
    }
   ],
   "source": [
    "sort_tuple((('a', 23),('b', 37),('c', 11), ('d',29)))"
   ]
  }
 ],
 "metadata": {
  "kernelspec": {
   "display_name": "Python [Root]",
   "language": "python",
   "name": "Python [Root]"
  },
  "language_info": {
   "codemirror_mode": {
    "name": "ipython",
    "version": 3
   },
   "file_extension": ".py",
   "mimetype": "text/x-python",
   "name": "python",
   "nbconvert_exporter": "python",
   "pygments_lexer": "ipython3",
   "version": "3.5.2"
  }
 },
 "nbformat": 4,
 "nbformat_minor": 5
}
