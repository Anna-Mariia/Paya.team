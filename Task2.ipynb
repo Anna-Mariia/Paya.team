{
 "cells": [
  {
   "cell_type": "code",
   "execution_count": 3,
   "id": "f33ac625",
   "metadata": {},
   "outputs": [
    {
     "name": "stdout",
     "output_type": "stream",
     "text": [
      "65.30000000000001\n",
      "-20.0\n"
     ]
    }
   ],
   "source": [
    "#Question 2\n",
    "#Convert Between °C and °F. Convert temperatures from one system to another.\n",
    "#Create a print statement to convert 18.5° C to °F.\n",
    "#Create a print statement to convert -4° F to °C.\n",
    "\n",
    "print((18.5*(9/5)+32))\n",
    "print((-4-32)/(9/5))"
   ]
  },
  {
   "cell_type": "code",
   "execution_count": null,
   "id": "b47430d1",
   "metadata": {},
   "outputs": [],
   "source": []
  }
 ],
 "metadata": {
  "kernelspec": {
   "display_name": "Python 3 (ipykernel)",
   "language": "python",
   "name": "python3"
  },
  "language_info": {
   "codemirror_mode": {
    "name": "ipython",
    "version": 3
   },
   "file_extension": ".py",
   "mimetype": "text/x-python",
   "name": "python",
   "nbconvert_exporter": "python",
   "pygments_lexer": "ipython3",
   "version": "3.9.12"
  }
 },
 "nbformat": 4,
 "nbformat_minor": 5
}
