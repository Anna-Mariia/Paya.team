{
 "cells": [
  {
   "cell_type": "code",
   "execution_count": 6,
   "metadata": {
    "collapsed": false
   },
   "outputs": [
    {
     "name": "stdout",
     "output_type": "stream",
     "text": [
      "Enter the price : 120\n",
      "Enter the percent tip : 23\n",
      "The tip amount : 27.6 \n",
      "The total bill with the tip :  147.6\n"
     ]
    }
   ],
   "source": [
    "def calc_tip():\n",
    "    '''A lot of cell phones have tip calculators.\n",
    "    Write one. Ask the user for the price of the meal and the percent tip they want to leave.\n",
    "    Then print both the tip amount and the total bill with the tip included.'''\n",
    "    price, tip_percent = (int(input(\"Enter the price : \")),\n",
    "                                  int(input(\"Enter the percent tip : \")))\n",
    "    print(\"The tip amount :\", price * tip_percent / 100,\n",
    "          \"\\nThe total bill with the tip : \", price * (1 + tip_percent / 100))\n",
    "calc_tip()"
   ]
  }
 ],
 "metadata": {
  "kernelspec": {
   "display_name": "Python [Root]",
   "language": "python",
   "name": "Python [Root]"
  },
  "language_info": {
   "codemirror_mode": {
    "name": "ipython",
    "version": 3
   },
   "file_extension": ".py",
   "mimetype": "text/x-python",
   "name": "python",
   "nbconvert_exporter": "python",
   "pygments_lexer": "ipython3",
   "version": "3.5.2"
  }
 },
 "nbformat": 4,
 "nbformat_minor": 5
}
