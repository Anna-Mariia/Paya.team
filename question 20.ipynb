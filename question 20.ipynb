{
 "cells": [
  {
   "cell_type": "code",
   "execution_count": 9,
   "id": "83e1d568",
   "metadata": {},
   "outputs": [],
   "source": [
    "def del_emptys(lst):\n",
    "\n",
    "    \"\"\"Write a function that removes \n",
    "    empty strings from the list of strings.\"\"\"\n",
    "    lst[:] = list(filter(None, lst))"
   ]
  },
  {
   "cell_type": "code",
   "execution_count": 10,
   "id": "e4d738ae",
   "metadata": {},
   "outputs": [
    {
     "data": {
      "text/plain": [
       "['ggggg', 'ggg', 'gg', 'g']"
      ]
     },
     "execution_count": 10,
     "metadata": {},
     "output_type": "execute_result"
    }
   ],
   "source": [
    "lst = [\"\", \"\", \"ggggg\", \"\", \"\", \"\", \"\", \"\", \"ggg\", \"\", \"\", \"\", \"\", \"\", \"\", \"\", \"gg\", \"g\"]\n",
    "del_emptys(lst)\n",
    "lst"
   ]
  }
 ],
 "metadata": {
  "kernelspec": {
   "display_name": "Python 3 (ipykernel)",
   "language": "python",
   "name": "python3"
  },
  "language_info": {
   "codemirror_mode": {
    "name": "ipython",
    "version": 3
   },
   "file_extension": ".py",
   "mimetype": "text/x-python",
   "name": "python",
   "nbconvert_exporter": "python",
   "pygments_lexer": "ipython3",
   "version": "3.9.12"
  }
 },
 "nbformat": 4,
 "nbformat_minor": 5
}
