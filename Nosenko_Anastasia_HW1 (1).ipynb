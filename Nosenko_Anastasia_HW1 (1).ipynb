{
  "cells": [
    {
      "cell_type": "markdown",
      "id": "6cc93a91",
      "metadata": {
        "id": "6cc93a91"
      },
      "source": [
        "# Set up\n",
        "Install Anaconda Python (version 3.7 or later)"
      ]
    },
    {
      "cell_type": "code",
      "execution_count": null,
      "id": "bc7c0a7c",
      "metadata": {
        "id": "bc7c0a7c",
        "outputId": "5ecfdcc4-ad3b-4772-95e1-30e0f8804550",
        "colab": {
          "base_uri": "https://localhost:8080/"
        }
      },
      "outputs": [
        {
          "output_type": "stream",
          "name": "stdout",
          "text": [
            "sys.version_info(major=3, minor=7, micro=14, releaselevel='final', serial=0)\n",
            "version 3.7.14\n"
          ]
        }
      ],
      "source": [
        "# Installation - anaconda python:\n",
        "#     - https://www.anaconda.com/products/individual\n",
        "# After installation you can always add modules.\n",
        "# Modules can be added from different channels.\n",
        "#   conda info\n",
        "#   conda config --add channels anaconda\n",
        "#   conda config --add channels conda-forge\n",
        "# You can do periodic updates using these commands:\n",
        "#   conda update conda\n",
        "#   conda update anaconda\n",
        "# -------------------------------------------------------\n",
        "import sys\n",
        "vv = sys.version_info\n",
        "print(vv)\n",
        "print('version ' + '.'.join([str(x) for x in vv[0:3]]))"
      ]
    },
    {
      "cell_type": "markdown",
      "id": "7f978472",
      "metadata": {
        "id": "7f978472"
      },
      "source": [
        "##  Question 4"
      ]
    },
    {
      "cell_type": "markdown",
      "id": "5c774691",
      "metadata": {
        "id": "5c774691"
      },
      "source": [
        "Write a Python program which accepts the radius of a circle from the user and compute the area."
      ]
    },
    {
      "cell_type": "code",
      "source": [
        "r = float(input(\"Enter rhe radius of a circle\"))\n",
        "area = 3.14 * r\n",
        "print(\"Area = \", area)"
      ],
      "metadata": {
        "id": "qupf0gRpbrs_"
      },
      "id": "qupf0gRpbrs_",
      "execution_count": null,
      "outputs": []
    },
    {
      "cell_type": "markdown",
      "id": "fc7f5268",
      "metadata": {
        "id": "fc7f5268"
      },
      "source": [
        "##  Question 11"
      ]
    },
    {
      "cell_type": "markdown",
      "id": "f7d5e811",
      "metadata": {
        "id": "f7d5e811"
      },
      "source": [
        "Write a program that asks the user to enter a power. Then find the last two digits of 2 raised to that power."
      ]
    },
    {
      "cell_type": "code",
      "source": [
        "power = int(input(\"Enter power: \"))\n",
        "digits = 2 ** power\n",
        "print(\"The last two digits of 2 raised to that power: \", digits % 100)"
      ],
      "metadata": {
        "id": "zvJc6JgmcHGc"
      },
      "id": "zvJc6JgmcHGc",
      "execution_count": null,
      "outputs": []
    },
    {
      "cell_type": "markdown",
      "id": "bf4186d1",
      "metadata": {
        "id": "bf4186d1"
      },
      "source": [
        "##  Question 16"
      ]
    },
    {
      "cell_type": "markdown",
      "id": "d1389cb0",
      "metadata": {
        "id": "d1389cb0"
      },
      "source": [
        "Write a program that removes any repeated items from a list so that each item appears at most once. For instance, the list $[1,1,2,3,4,3,0,0]$ would become $[1,2,3,4,0]$."
      ]
    },
    {
      "cell_type": "code",
      "source": [
        "a = [1, 1, 2, 3, 4, 3, 0, 0]\n",
        "b = []\n",
        "for i in a:\n",
        "  if i not in b:\n",
        "    b.append(i)\n",
        "print(b)"
      ],
      "metadata": {
        "id": "17qqKoUOcjKL"
      },
      "id": "17qqKoUOcjKL",
      "execution_count": null,
      "outputs": []
    },
    {
      "cell_type": "markdown",
      "id": "e062f922",
      "metadata": {
        "id": "e062f922"
      },
      "source": [
        "##  Question 17"
      ]
    },
    {
      "cell_type": "markdown",
      "id": "b6305c6e",
      "metadata": {
        "id": "b6305c6e"
      },
      "source": [
        "Calculate number of business days between two dates using datetime module."
      ]
    },
    {
      "cell_type": "code",
      "source": [
        "import datetime import numpy as np\n",
        "first_data = datetime.date(2022, 9, 18)\n",
        "second_data = datetime.date(2022, 12, 3)\n",
        "business_days = np.busday_count(first_data, second_data)\n",
        "print(\"Number of business days: \", business_days)"
      ],
      "metadata": {
        "id": "eLMR3fwsc6_T"
      },
      "id": "eLMR3fwsc6_T",
      "execution_count": null,
      "outputs": []
    }
  ],
  "metadata": {
    "kernelspec": {
      "display_name": "Python 3 (ipykernel)",
      "language": "python",
      "name": "python3"
    },
    "language_info": {
      "codemirror_mode": {
        "name": "ipython",
        "version": 3
      },
      "file_extension": ".py",
      "mimetype": "text/x-python",
      "name": "python",
      "nbconvert_exporter": "python",
      "pygments_lexer": "ipython3",
      "version": "3.9.7"
    },
    "colab": {
      "provenance": [],
      "collapsed_sections": []
    }
  },
  "nbformat": 4,
  "nbformat_minor": 5
}