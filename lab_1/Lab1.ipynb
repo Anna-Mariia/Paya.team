{
 "cells": [
  {
   "cell_type": "markdown",
   "metadata": {},
   "source": [
    "# Set up\n",
    "Install Anaconda Python (version 3.7 or later)"
   ]
  },
  {
   "cell_type": "code",
   "execution_count": 1,
   "metadata": {
    "collapsed": false
   },
   "outputs": [
    {
     "name": "stdout",
     "output_type": "stream",
     "text": [
      "sys.version_info(major=3, minor=5, micro=2, releaselevel='final', serial=0)\n",
      "version 3.5.2\n"
     ]
    }
   ],
   "source": [
    "# Installation - anaconda python:\n",
    "#     - https://www.anaconda.com/products/individual\n",
    "# After installation you can always add modules.\n",
    "# Modules can be added from different channels.\n",
    "#   conda info\n",
    "#   conda config --add channels anaconda\n",
    "#   conda config --add channels conda-forge\n",
    "# You can do periodic updates using these commands:\n",
    "#   conda update conda\n",
    "#   conda update anaconda\n",
    "# -------------------------------------------------------\n",
    "import sys\n",
    "vv = sys.version_info\n",
    "print(vv)\n",
    "print('version ' + '.'.join([str(x) for x in vv[0:3]]))"
   ]
  },
  {
   "cell_type": "markdown",
   "metadata": {},
   "source": [
    "##  Question 1"
   ]
  },
  {
   "cell_type": "markdown",
   "metadata": {},
   "source": [
    "Write a print statement to print the mixed fraction 3 5/8 as a floating point number and as an integer."
   ]
  },
  {
   "cell_type": "markdown",
   "metadata": {},
   "source": [
    "### Answer"
   ]
  },
  {
   "cell_type": "code",
   "execution_count": 2,
   "metadata": {
    "collapsed": false
   },
   "outputs": [
    {
     "name": "stdout",
     "output_type": "stream",
     "text": [
      "3.625\n",
      "4\n"
     ]
    }
   ],
   "source": [
    "#(Sagan Sasha)\n",
    "\n",
    "print(float(3+5/8))\n",
    "print(round(3+5/8))"
   ]
  },
  {
   "cell_type": "markdown",
   "metadata": {},
   "source": [
    "##  Question 2"
   ]
  },
  {
   "cell_type": "markdown",
   "metadata": {},
   "source": [
    "**Convert Between °C and °F.** Convert temperatures from one system to another.\n",
    "- Create a print statement to convert 18.5° C to °F. \n",
    "- Create a print statement to convert -4° F to °C."
   ]
  },
  {
   "cell_type": "markdown",
   "metadata": {},
   "source": [
    "### Answer"
   ]
  },
  {
   "cell_type": "code",
   "execution_count": 3,
   "metadata": {
    "collapsed": false
   },
   "outputs": [
    {
     "name": "stdout",
     "output_type": "stream",
     "text": [
      "65.30000000000001\n",
      "-20.0\n"
     ]
    }
   ],
   "source": [
    "#(Sagan Sasha)\n",
    "\n",
    "print((18.5*(9/5)+32))\n",
    "print((-4-32)/(9/5))"
   ]
  },
  {
   "cell_type": "markdown",
   "metadata": {},
   "source": [
    "##  Question 3"
   ]
  },
  {
   "cell_type": "markdown",
   "metadata": {},
   "source": [
    "Write a function that asks the user to enter a list of integers. Do the following:\n",
    "\n",
    "- Print the last item in the list.\n",
    "- Print the list in reverse order.\n",
    "- Print Yes if the list contains a 5 and No otherwise.\n",
    "- Print the number of fives in the list.\n",
    "- Remove the first and last items from the list, sort the remaining items, and print the result.\n",
    "- Print how many integers in the list are less than 5."
   ]
  },
  {
   "cell_type": "markdown",
   "metadata": {},
   "source": [
    "### Answer"
   ]
  },
  {
   "cell_type": "code",
   "execution_count": 4,
   "metadata": {
    "collapsed": false
   },
   "outputs": [
    {
     "name": "stdout",
     "output_type": "stream",
     "text": [
      "-1\n",
      "the entry is invalid\n"
     ]
    }
   ],
   "source": [
    "#(Sagan Sasha)\n",
    "\n",
    "x = float(input())\n",
    "if x < 0:\n",
    "    print('the entry is invalid')\n",
    "else:\n",
    "    print(x/2.54)"
   ]
  },
  {
   "cell_type": "markdown",
   "metadata": {},
   "source": [
    "##  Question 4"
   ]
  },
  {
   "cell_type": "markdown",
   "metadata": {},
   "source": [
    "Write a Python program which accepts the radius of a circle from the user and compute the area."
   ]
  },
  {
   "cell_type": "markdown",
   "metadata": {},
   "source": [
    "### Answer"
   ]
  },
  {
   "cell_type": "code",
   "execution_count": 5,
   "metadata": {
    "collapsed": false
   },
   "outputs": [
    {
     "name": "stdout",
     "output_type": "stream",
     "text": [
      "Enter rhe radius of a circle2\n",
      "Area =  6.28\n"
     ]
    }
   ],
   "source": [
    "#(Nosenko Nastya)\n",
    "\n",
    "r = float(input(\"Enter rhe radius of a circle\"))\n",
    "area = 3.14 * r\n",
    "\n",
    "print(\"Area = \", area)"
   ]
  },
  {
   "cell_type": "markdown",
   "metadata": {},
   "source": [
    "##  Question 5"
   ]
  },
  {
   "cell_type": "markdown",
   "metadata": {},
   "source": [
    "Write a Python program which accepts the user's first and last name and print them in reverse order with a space between them."
   ]
  },
  {
   "cell_type": "markdown",
   "metadata": {},
   "source": [
    "### Answer"
   ]
  },
  {
   "cell_type": "code",
   "execution_count": 24,
   "metadata": {
    "collapsed": false
   },
   "outputs": [
    {
     "name": "stdout",
     "output_type": "stream",
     "text": [
      "The First name: Anna-Maria\n",
      "The Last name: Mykhaylyak\n",
      "Mykhaylyak Anna-Maria\n"
     ]
    }
   ],
   "source": [
    "#(Mykhaylyak Anna-Maria)\n",
    "\n",
    "a = input('The First name: ')\n",
    "b = input('The Last name: ')\n",
    "\n",
    "print(b,a) "
   ]
  },
  {
   "cell_type": "markdown",
   "metadata": {},
   "source": [
    "##  Question 6"
   ]
  },
  {
   "cell_type": "markdown",
   "metadata": {},
   "source": [
    "Write a Python program that accepts an integer (n) and computes the value of n+nn+nnn"
   ]
  },
  {
   "cell_type": "markdown",
   "metadata": {},
   "source": [
    "### Answer"
   ]
  },
  {
   "cell_type": "code",
   "execution_count": 7,
   "metadata": {
    "collapsed": false
   },
   "outputs": [
    {
     "name": "stdout",
     "output_type": "stream",
     "text": [
      "123\n",
      "123246369\n"
     ]
    }
   ],
   "source": [
    "#(Kuzio Yaryna)\n",
    "\n",
    "n = int(input())\n",
    "print(n + int(str(n) * 2) + int(str(n) * 3))"
   ]
  },
  {
   "cell_type": "markdown",
   "metadata": {},
   "source": [
    "##  Question 7"
   ]
  },
  {
   "cell_type": "markdown",
   "metadata": {},
   "source": [
    "A lot of cell phones have tip calculators. Write one. Ask the user for the price of the meal and the percent tip they want to leave. Then print both the tip amount and the total bill with the tip included."
   ]
  },
  {
   "cell_type": "markdown",
   "metadata": {},
   "source": [
    "### Answer"
   ]
  },
  {
   "cell_type": "code",
   "execution_count": 25,
   "metadata": {
    "collapsed": false
   },
   "outputs": [
    {
     "name": "stdout",
     "output_type": "stream",
     "text": [
      "Enter the price : 120\n",
      "Enter the percent tip : 23\n",
      "The tip amount : 27.6 \n",
      "The total bill with the tip :  147.6\n"
     ]
    }
   ],
   "source": [
    "#(Novakova Daria)\n",
    "\n",
    "def calc_tip():\n",
    "    price, tip_percent = (int(input(\"Enter the price : \")),\n",
    "                                  int(input(\"Enter the percent tip : \")))\n",
    "    print(\"The tip amount :\", price * tip_percent / 100,\n",
    "          \"\\nThe total bill with the tip : \", price * (1 + tip_percent / 100))\n",
    "    \n",
    "calc_tip()"
   ]
  },
  {
   "cell_type": "markdown",
   "metadata": {},
   "source": [
    "##  Question 8"
   ]
  },
  {
   "cell_type": "markdown",
   "metadata": {},
   "source": [
    "Write a program that asks the user to enter three numbers: the day of birth, the month of birth and the year of birth (use three separate input statements). Print out the total number of days from birth."
   ]
  },
  {
   "cell_type": "markdown",
   "metadata": {},
   "source": [
    "### Answer"
   ]
  },
  {
   "cell_type": "code",
   "execution_count": 9,
   "metadata": {
    "collapsed": true
   },
   "outputs": [],
   "source": [
    "#(Mykhaylyak Anna-Maria)\n"
   ]
  },
  {
   "cell_type": "markdown",
   "metadata": {},
   "source": [
    "##  Question 9"
   ]
  },
  {
   "cell_type": "markdown",
   "metadata": {},
   "source": [
    "Write a program that asks the user to enter an angle between -180° and 180°. Using an expression with the modulo operator, convert the angle to its equivalent between 0° and 360°."
   ]
  },
  {
   "cell_type": "markdown",
   "metadata": {},
   "source": [
    "### Answer"
   ]
  },
  {
   "cell_type": "code",
   "execution_count": 26,
   "metadata": {
    "collapsed": false
   },
   "outputs": [
    {
     "name": "stdout",
     "output_type": "stream",
     "text": [
      "Enter an angle : -120\n"
     ]
    },
    {
     "data": {
      "text/plain": [
       "240"
      ]
     },
     "execution_count": 26,
     "metadata": {},
     "output_type": "execute_result"
    }
   ],
   "source": [
    "#(Novakova Daria)\n",
    "\n",
    "def convert_angle():\n",
    "    angle = int(input(\"Enter an angle : \"))\n",
    "    return angle if angle >= 0 else 360 + angle\n",
    "\n",
    "convert_angle()"
   ]
  },
  {
   "cell_type": "markdown",
   "metadata": {},
   "source": [
    "##  Question 10"
   ]
  },
  {
   "cell_type": "markdown",
   "metadata": {},
   "source": [
    "Write a program that generates a random decimal number between 1 and 10 with two decimal places of accuracy."
   ]
  },
  {
   "cell_type": "markdown",
   "metadata": {},
   "source": [
    "### Answer"
   ]
  },
  {
   "cell_type": "code",
   "execution_count": 27,
   "metadata": {
    "collapsed": false
   },
   "outputs": [
    {
     "name": "stdout",
     "output_type": "stream",
     "text": [
      "1.67\n"
     ]
    }
   ],
   "source": [
    "#(Kuzio Yaryna)\n",
    "\n",
    "from random import uniform\n",
    "\n",
    "print(round(uniform(1, 10), 2))"
   ]
  },
  {
   "cell_type": "markdown",
   "metadata": {},
   "source": [
    "##  Question 11"
   ]
  },
  {
   "cell_type": "markdown",
   "metadata": {},
   "source": [
    "Write a program that asks the user to enter a power (non-negative integer number). Then find the last two digits of 2 raised to that power."
   ]
  },
  {
   "cell_type": "markdown",
   "metadata": {},
   "source": [
    "### Answer"
   ]
  },
  {
   "cell_type": "code",
   "execution_count": 28,
   "metadata": {
    "collapsed": false
   },
   "outputs": [
    {
     "name": "stdout",
     "output_type": "stream",
     "text": [
      "Enter power(non-negative integer number): 3\n",
      "The last two digits of 2 raised to that power:  8\n"
     ]
    }
   ],
   "source": [
    "#(Nosenko Nastya)\n",
    "power = int(input(\"Enter power(non-negative integer number): \"))\n",
    "digits = 2 ** power\n",
    "\n",
    "print(\"The last two digits of 2 raised to that power: \", digits % 100)"
   ]
  },
  {
   "cell_type": "markdown",
   "metadata": {},
   "source": [
    "##  Question 12"
   ]
  },
  {
   "cell_type": "markdown",
   "metadata": {},
   "source": [
    "Write a program that asks the user how many credits they have taken. If they have taken 23 or less, print that the student is a freshman. If they have taken between 24 and 53, print that they are a sophomore. The range for juniors is 54 to 83, and for seniors it is 84 and over."
   ]
  },
  {
   "cell_type": "markdown",
   "metadata": {},
   "source": [
    "### Answer"
   ]
  },
  {
   "cell_type": "code",
   "execution_count": 13,
   "metadata": {
    "collapsed": false
   },
   "outputs": [
    {
     "name": "stdout",
     "output_type": "stream",
     "text": [
      "Your credits: 34\n",
      "You are sophomore student\n"
     ]
    }
   ],
   "source": [
    "#(Mykhaylyak Anna-Maria)\n",
    "\n",
    "a = int(input('Your credits: '))\n",
    "if a <= 23:\n",
    "    print('You are freshman student')\n",
    "elif a >= 24 and a <= 53:\n",
    "    print('You are sophomore student')\n",
    "elif a >= 54 and a <= 83:\n",
    "    print('You are junior')\n",
    "elif a >= 84:\n",
    "    print('You are senior')"
   ]
  },
  {
   "cell_type": "markdown",
   "metadata": {},
   "source": [
    "##  Question 13"
   ]
  },
  {
   "cell_type": "markdown",
   "metadata": {},
   "source": [
    "Write a program that asks the user to enter a length in centimeters. If the user enters a negative length, the program should tell the user that the entry is invalid. Otherwise, the program should convert the length to inches and print out the result. There are 2.54 centimeters in an inch."
   ]
  },
  {
   "cell_type": "markdown",
   "metadata": {},
   "source": [
    "### Answer"
   ]
  },
  {
   "cell_type": "code",
   "execution_count": 14,
   "metadata": {
    "collapsed": false
   },
   "outputs": [
    {
     "name": "stdout",
     "output_type": "stream",
     "text": [
      "1 6 3 5 2 7 89\n",
      "89\n",
      "[89, 7, 2, 5, 3, 6, 1]\n",
      "Yes\n",
      "1\n",
      "[2, 3, 5, 6, 7]\n",
      "2\n"
     ]
    }
   ],
   "source": [
    "#(Sagan Sasha)\n",
    "\n",
    "def list_op():\n",
    "    l = input().split()\n",
    "    print(l[-1])\n",
    "    n = 0\n",
    "    for i in l:\n",
    "        l[n] = int(l[n]) \n",
    "        n = n + 1\n",
    "    s = []  \n",
    "   \n",
    "    n = 1\n",
    "    for i in l:\n",
    "        s.append(l[-n])\n",
    "        n += 1\n",
    "    print(s)\n",
    "    n = 0    \n",
    "    for i in l:\n",
    "        if i == 5:\n",
    "            n += 1\n",
    "        else:\n",
    "            n += 0\n",
    "    if n > 0:\n",
    "        print(\"Yes\")\n",
    "    else:\n",
    "        print(\"No\")\n",
    "        \n",
    "    print(n)  \n",
    "    s = []\n",
    "    for i in l:\n",
    "        if i == l[0] or i == l[-1]:\n",
    "            pass\n",
    "        else:\n",
    "            s.append(i)\n",
    "    s.sort()        \n",
    "    print(s)\n",
    "    n = 0\n",
    "    for i in s:\n",
    "        if i < 5:\n",
    "            n += 1\n",
    "        else:\n",
    "            n += 0\n",
    "    print(n)       \n",
    "    \n",
    "list_op()"
   ]
  },
  {
   "cell_type": "markdown",
   "metadata": {},
   "source": [
    "##  Question 14"
   ]
  },
  {
   "cell_type": "markdown",
   "metadata": {},
   "source": [
    "Write a program that lets the user play Rock-Paper-Scissors against the computer. There should be three rounds, and after those three rounds, your program should print out who won and lost or that there is a tie."
   ]
  },
  {
   "cell_type": "markdown",
   "metadata": {},
   "source": [
    "### Answer"
   ]
  },
  {
   "cell_type": "code",
   "execution_count": 15,
   "metadata": {
    "collapsed": false
   },
   "outputs": [
    {
     "name": "stdout",
     "output_type": "stream",
     "text": [
      "Давайте пограємо!\n",
      "0 Камінь\n",
      "1 Ножниці\n",
      "2 Папір\n",
      "Щo обираєте (0-1-2)-> 1\n",
      "Kомп'ютер вибрав Ножниці\n",
      "Baш вибiр Ножниці\n",
      "НІЧИЯ\n",
      "Дякую за гру!\n",
      "Бажаєте продовжити? (yes/no) no\n"
     ]
    }
   ],
   "source": [
    "#(Mykhaylyak Anna-Maria)\n",
    "\n",
    "from random import randint\n",
    "\n",
    "choice = [\"Камінь\",\"Ножниці\",\"Папір\"]\n",
    "print(\"Давайте пограємо!\")\n",
    "for i in range (3):\n",
    "    print (i, choice[i])\n",
    "\n",
    "game = \"yes\"\n",
    "while game!=\"no\":\n",
    "    comp = randint (0,2)\n",
    "    x = int(input (\"Щo обираєте (0-1-2)-> \"))\n",
    "    your_choice = choice[x]\n",
    "    comp_choice = choice[comp]\n",
    "    print (\"Kомп'ютер вибрав\",comp_choice)\n",
    "    print (\"Baш вибiр\",your_choice)\n",
    "    #Якщо комп'ютер вибрав КАМІНЬ\n",
    "    if comp == 0:\n",
    "        if x == 0:\n",
    "            print(\"НІЧИЯ\" )\n",
    "        if x == 1:\n",
    "            print (\"Bиграв компютер\")\n",
    "        if x == 2:\n",
    "            print(\"Ви виграли\")\n",
    "    #Якщо комп'ютер вибрав НОЖНИЦІ\n",
    "    if comp == 1:\n",
    "        if x == 1:\n",
    "            print(\"НІЧИЯ\")\n",
    "        if x == 2:\n",
    "            print (\"Bиграв комп'ютер\")\n",
    "        if x == 0:\n",
    "            print(\"Ви виграли\")\n",
    "    #Якщо комп'ютер вибрав ПАПІР\n",
    "    if comp == 2:\n",
    "        if x == 2:\n",
    "            print(\"НІЧИЯ\")\n",
    "        if x == 0:\n",
    "            print (\"Bиграв комп'ютep\")\n",
    "        if x == 1:\n",
    "            print(\"Bи виграли\" )\n",
    "    print('Дякую за гру!')\n",
    "    game = input('Бажаєте продовжити? (yes/no) ')\n"
   ]
  },
  {
   "cell_type": "markdown",
   "metadata": {},
   "source": [
    "##  Question 15"
   ]
  },
  {
   "cell_type": "markdown",
   "metadata": {},
   "source": [
    "A store charges $\\$$12 per item if you buy less than 10 items. If you buy between 10 and 99 items, the cost is $\\$$10 per item. If you buy 100 or more items, the cost is $7 per item. Write a program that asks the user how many items they are buying and prints the total cost.\n"
   ]
  },
  {
   "cell_type": "markdown",
   "metadata": {},
   "source": [
    "### Answer"
   ]
  },
  {
   "cell_type": "code",
   "execution_count": 16,
   "metadata": {
    "collapsed": false
   },
   "outputs": [
    {
     "name": "stdout",
     "output_type": "stream",
     "text": [
      "How many items will you buy?: 10\n",
      "You will need to pay: 100 dollars\n"
     ]
    }
   ],
   "source": [
    "#(Mykhaylyak Anna-Maria)\n",
    "\n",
    "a = int(input('How many items will you buy?: '))\n",
    "if a < 10:\n",
    "    b = a * 12\n",
    "    print(\"You will need to pay:\",b,\"dollars\")\n",
    "elif a >= 10 and a <= 99:\n",
    "    b = a * 10\n",
    "    print(\"You will need to pay:\",b,\"dollars\")\n",
    "elif a >= 100:\n",
    "    b = a * 7\n",
    "    print(\"You will need to pay:\",b,\"dollars\")"
   ]
  },
  {
   "cell_type": "markdown",
   "metadata": {},
   "source": [
    "##  Question 16"
   ]
  },
  {
   "cell_type": "markdown",
   "metadata": {},
   "source": [
    "Write a program that removes any repeated items from a list so that each item appears at most once. For instance, the list $[1,1,2,3,4,3,0,0]$ would become $[1,2,3,4,0]$."
   ]
  },
  {
   "cell_type": "markdown",
   "metadata": {},
   "source": [
    "### Answer"
   ]
  },
  {
   "cell_type": "code",
   "execution_count": 17,
   "metadata": {
    "collapsed": false
   },
   "outputs": [
    {
     "name": "stdout",
     "output_type": "stream",
     "text": [
      "[1, 2, 3, 4, 0]\n"
     ]
    }
   ],
   "source": [
    "#(Nosenko Nastya)\n",
    "\n",
    "a = [1, 1, 2, 3, 4, 3, 0, 0]\n",
    "b = []\n",
    "for i in a:\n",
    "    if i not in b:\n",
    "        b.append(i)\n",
    "print(b)"
   ]
  },
  {
   "cell_type": "markdown",
   "metadata": {},
   "source": [
    "##  Question 17"
   ]
  },
  {
   "cell_type": "markdown",
   "metadata": {},
   "source": [
    "Calculate number of business days between two dates using datetime module."
   ]
  },
  {
   "cell_type": "markdown",
   "metadata": {},
   "source": [
    "### Answer"
   ]
  },
  {
   "cell_type": "code",
   "execution_count": 29,
   "metadata": {
    "collapsed": false
   },
   "outputs": [
    {
     "name": "stdout",
     "output_type": "stream",
     "text": [
      "Number of business days:  55\n"
     ]
    }
   ],
   "source": [
    "#(Nosenko Nastya)\n",
    "\n",
    "import datetime \n",
    "import numpy as np\n",
    "\n",
    "first_data = datetime.date(2022, 9, 18)\n",
    "second_data = datetime.date(2022, 12, 3)\n",
    "business_days = np.busday_count(first_data, second_data)\n",
    "\n",
    "print(\"Number of business days: \", business_days)"
   ]
  },
  {
   "cell_type": "markdown",
   "metadata": {},
   "source": [
    "## Question 18"
   ]
  },
  {
   "cell_type": "markdown",
   "metadata": {},
   "source": [
    "Write a function that reverse the tuple."
   ]
  },
  {
   "cell_type": "markdown",
   "metadata": {},
   "source": [
    "## Answer"
   ]
  },
  {
   "cell_type": "code",
   "execution_count": 30,
   "metadata": {
    "collapsed": false
   },
   "outputs": [
    {
     "data": {
      "text/plain": [
       "(3, 2, 1)"
      ]
     },
     "execution_count": 30,
     "metadata": {},
     "output_type": "execute_result"
    }
   ],
   "source": [
    "#(Kuzio Yaryna)\n",
    "\n",
    "def rev_tuple(tpl):\n",
    "    return tuple(reversed(tpl))\n",
    "\n",
    "rev_tuple((1, 2, 3))"
   ]
  },
  {
   "cell_type": "markdown",
   "metadata": {},
   "source": [
    "## Question 19"
   ]
  },
  {
   "cell_type": "markdown",
   "metadata": {},
   "source": [
    "Sort a tuple of tuples by 2nd item. For example, the output for the tuple $(('a', 23),('b', 37),('c', 11), ('d',29))$ should be $(('c', 11), ('a', 23), ('d', 29), ('b', 37))$"
   ]
  },
  {
   "cell_type": "markdown",
   "metadata": {},
   "source": [
    "## Answer"
   ]
  },
  {
   "cell_type": "code",
   "execution_count": 20,
   "metadata": {
    "collapsed": false
   },
   "outputs": [
    {
     "data": {
      "text/plain": [
       "(('c', 11), ('a', 23), ('d', 29), ('b', 37))"
      ]
     },
     "execution_count": 20,
     "metadata": {},
     "output_type": "execute_result"
    }
   ],
   "source": [
    "#(Novakova Daria)\n",
    "\n",
    "def sort_tuple(tpl):\n",
    "    return tuple(sorted(tpl, key=lambda x: x[1]))\n",
    "\n",
    "sort_tuple((('a', 23),('b', 37),('c', 11), ('d',29)))"
   ]
  },
  {
   "cell_type": "markdown",
   "metadata": {},
   "source": [
    "## Question 20"
   ]
  },
  {
   "cell_type": "markdown",
   "metadata": {},
   "source": [
    "Write a function that removes empty strings from the list of strings.\n"
   ]
  },
  {
   "cell_type": "markdown",
   "metadata": {},
   "source": [
    "## Answer"
   ]
  },
  {
   "cell_type": "code",
   "execution_count": 31,
   "metadata": {
    "collapsed": false
   },
   "outputs": [
    {
     "data": {
      "text/plain": [
       "['ggggg', 'ggg', 'gg', 'g']"
      ]
     },
     "execution_count": 31,
     "metadata": {},
     "output_type": "execute_result"
    }
   ],
   "source": [
    "#(Kuzio Yaryna)\n",
    "\n",
    "def del_emptys(lst):\n",
    "    lst[:] = list(filter(None, lst))\n",
    "    \n",
    "lst = [\"\", \"\", \"ggggg\", \"\", \"\", \"\", \"\", \"\", \"ggg\", \"\", \"\", \"\", \"\", \"\", \"\", \"\", \"gg\", \"g\"]\n",
    "del_emptys(lst)\n",
    "lst"
   ]
  },
  {
   "cell_type": "markdown",
   "metadata": {},
   "source": [
    "## Question 21"
   ]
  },
  {
   "cell_type": "markdown",
   "metadata": {},
   "source": [
    "Calculate number of distinct characters in a string using a for loop."
   ]
  },
  {
   "cell_type": "markdown",
   "metadata": {},
   "source": [
    "## Answer"
   ]
  },
  {
   "cell_type": "code",
   "execution_count": 22,
   "metadata": {
    "collapsed": false
   },
   "outputs": [
    {
     "name": "stdout",
     "output_type": "stream",
     "text": [
      "29\n"
     ]
    }
   ],
   "source": [
    "#(Novakova Daria)\n",
    "\n",
    "r1 = \"jgfl;kjlmdfgbhjbnklckp 436 \"+ '\"' + \"57ffdg#$%^&785 $%&*()\"\n",
    "r2 = \"\"\n",
    "for i in r1:\n",
    "    if i not in r2:\n",
    "        r2 += i\n",
    "print(len(r2))"
   ]
  },
  {
   "cell_type": "markdown",
   "metadata": {},
   "source": [
    "## Question 22"
   ]
  },
  {
   "cell_type": "markdown",
   "metadata": {},
   "source": [
    "Write a function called is_sorted that is given a list and returns True if the list is sorted and False otherwise."
   ]
  },
  {
   "cell_type": "markdown",
   "metadata": {},
   "source": [
    "## Answer"
   ]
  },
  {
   "cell_type": "code",
   "execution_count": 23,
   "metadata": {
    "collapsed": false
   },
   "outputs": [
    {
     "data": {
      "text/plain": [
       "False"
      ]
     },
     "execution_count": 23,
     "metadata": {},
     "output_type": "execute_result"
    }
   ],
   "source": [
    "#(Novakova Daria)\n",
    "\n",
    "def is_sorted(my_list):\n",
    "    return my_list == sorted(my_list)\n",
    "\n",
    "is_sorted([1, 5, 3, 4])"
   ]
  }
 ],
 "metadata": {
  "kernelspec": {
   "display_name": "Python [Root]",
   "language": "python",
   "name": "Python [Root]"
  },
  "language_info": {
   "codemirror_mode": {
    "name": "ipython",
    "version": 3
   },
   "file_extension": ".py",
   "mimetype": "text/x-python",
   "name": "python",
   "nbconvert_exporter": "python",
   "pygments_lexer": "ipython3",
   "version": "3.5.2"
  }
 },
 "nbformat": 4,
 "nbformat_minor": 5
}
